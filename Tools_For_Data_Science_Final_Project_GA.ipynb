{
 "cells": [
  {
   "cell_type": "markdown",
   "metadata": {},
   "source": [
    "# My Jupyter Notebook in Watson Studio"
   ]
  },
  {
   "cell_type": "markdown",
   "metadata": {},
   "source": [
    "<b> Graham Arbon </b><br>\n",
    "Data Scientist"
   ]
  },
  {
   "cell_type": "markdown",
   "metadata": {},
   "source": [
    "<i> I'm interested in data science because I feel like it combines both the exploratory nature of projects that I enjoy while also still allowing me to work with code and machine learning. I'm also interested in data science because some of my favorite sports (Golf and F1) are heavily data influenced."
   ]
  },
  {
   "cell_type": "markdown",
   "metadata": {},
   "source": [
    "### The code below will display the output of 1 + 1"
   ]
  },
  {
   "cell_type": "code",
   "execution_count": 2,
   "metadata": {},
   "outputs": [
    {
     "data": {
      "text/plain": [
       "2"
      ]
     },
     "execution_count": 2,
     "metadata": {},
     "output_type": "execute_result"
    }
   ],
   "source": [
    "1 + 1"
   ]
  },
  {
   "cell_type": "markdown",
   "metadata": {},
   "source": [
    "In this cell we will show multiple other markdown possibilites:\n",
    "    <ul>\n",
    "    <li> Hyperlink to <a href = \"https://www.coursera.org/\"> Coursera </a></li>\n",
    "    <li> <s> Strikethrough on text </s></li>\n",
    "    <li> A numbered list with some other things we can do: </li>\n",
    "        <ol>\n",
    "            <li>Table:            \n",
    "                <table>\n",
    "                <caption> Sample Table </caption>\n",
    "                <tr>\n",
    "                    <th>Table Column One</th>\n",
    "                    <th>Table Column Two</th>\n",
    "                    <th>Table Column Three</th>\n",
    "                </tr>\n",
    "                <tr>\n",
    "                    <td>Some Info Here</td>\n",
    "                    <td>A little more info here </td>\n",
    "                    <td>Something else here</td>\n",
    "                </table> </li>\n",
    "            <li>Picture: <img src = \"rubber_duck_copy.png\"> </li>\n",
    "            <li>A block quote: \n",
    "                <blockquote> It is change, continuing change, inevitable change, that is the dominant factor in society today. No sensible decision can be made any longer without taking into account not only the world as it is, but the world as it will be.\n",
    "\n",
    "                    Isaac Asimov\n",
    "</blockquote> </li>\n",
    "</ol>\n",
    "</ul>"
   ]
  },
  {
   "cell_type": "code",
   "execution_count": null,
   "metadata": {},
   "outputs": [],
   "source": []
  },
  {
   "cell_type": "code",
   "execution_count": null,
   "metadata": {},
   "outputs": [],
   "source": []
  }
 ],
 "metadata": {
  "kernelspec": {
   "display_name": "Python 3",
   "language": "python",
   "name": "python3"
  },
  "language_info": {
   "codemirror_mode": {
    "name": "ipython",
    "version": 3
   },
   "file_extension": ".py",
   "mimetype": "text/x-python",
   "name": "python",
   "nbconvert_exporter": "python",
   "pygments_lexer": "ipython3",
   "version": "3.8.3"
  }
 },
 "nbformat": 4,
 "nbformat_minor": 4
}
