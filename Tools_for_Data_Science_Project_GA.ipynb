{
 "cells": [
  {
   "cell_type": "markdown",
   "metadata": {},
   "source": [
    "# Jupyter Notebook for Tools for Data Science"
   ]
  },
  {
   "cell_type": "markdown",
   "metadata": {},
   "source": [
    "This is a Jupyter Notebook created for the purpose of showing knowledge gained while taking the Tools for Data Science course. The notebook will go over languages, libraries and tools. In addition, it will also show what functions Jupyter Notebooks can perform with both its markdown cells and coding cells."
   ]
  },
  {
   "cell_type": "markdown",
   "metadata": {},
   "source": [
    "<b>Data Science Languages</b>\n",
    "<ul>\n",
    "    <li>Python</li>\n",
    "    <li>R</li>\n",
    "    <li>SQL</li>\n",
    "    <li>Scala</li>\n",
    "    <li>Java</li>\n",
    "    <li>C++</li>\n",
    "    <li>Julia</li>\n",
    "</ul>\n",
    "The can also be used in some unique cases:\n",
    "<ul>\n",
    "    <li>Javascript</li>\n",
    "    <li>PHP</li>\n",
    "    <li>Go</li>\n",
    "    <li>Ruby</li>\n",
    "    <li>Visual Basic</li>\n",
    "</ul>\n",
    "\n"
   ]
  },
  {
   "cell_type": "markdown",
   "metadata": {},
   "source": [
    "<b>Data Science Libraries</b>\n",
    "<ul>\n",
    "    <li>Python:</li>\n",
    "    <ul>\n",
    "        <li>Data Science:</li>\n",
    "        <ul>\n",
    "            <li>Pandas</li>\n",
    "            <li>NumPy</li>\n",
    "            <li>SciPy</li>\n",
    "            <li>Matplotlib</li>\n",
    "        </ul>\n",
    "        <li>Machine Learning/ Artificial Intelligence:</li>\n",
    "        <ul>\n",
    "            <li>Tensorflow</li>\n",
    "            <li>PyTorch</li>\n",
    "            <li>Keras</li>\n",
    "            <li>Scikit-learn</li>\n",
    "        </ul>\n",
    "    </ul>\n",
    "    <li>R:</li>\n",
    "    <ul>\n",
    "        <li>GGPlot2</li>\n",
    "        <li>Libraries that enable the use of:</li>\n",
    "        <ul>\n",
    "            <li>Keras</li>\n",
    "            <li>TensorFlow</li>\n",
    "        </ul>\n",
    "    </ul>\n",
    "    <li>Scala:</li>\n",
    "    <ul>\n",
    "        <li>Vegas</li>\n",
    "        <li>BigDL</li>\n",
    "    </ul>\n",
    "</ul>"
   ]
  },
  {
   "cell_type": "markdown",
   "metadata": {},
   "source": [
    "<b><center>Data Science Tools</center></b>\n",
    "\n",
    "|Name|Function|Type|\n",
    "|:---|:---|---:|\n",
    "|MySQL|Data Management|Open Source|\n",
    "|PostGres|Data Management|Open Source|\n",
    "|MongoDB|Data Management|Open Source|\n",
    "|Apache Couch DB|Data Management|Open Source|\n",
    "|Cassandra|Data Management|Open Source|\n",
    "|Hadoop File System|Data Management|Open Source|\n",
    "|Ceph|Data Management|Open Source|\n",
    "|Elasticsearch|Data Management|Open Source|\n",
    "|Oracle DB|Data Management|Commercial|\n",
    "|Microsoft SQL|Data Management|Commercial|\n",
    "|IBM DB2|Data Management|Commercial|\n",
    "|AWS DynamoDB|Data Management|Cloud|\n",
    "|Cloudant|Data Management|Cloud|\n",
    "|Apache CouchDB|Data Management|Cloud|\n",
    "|IBM Db2|Data Management|Cloud|\n",
    "|Apache Airflow|Data Integration and Transformation|Open Source|\n",
    "|KubeFlow|Data Integration and Transformation|Open Source|\n",
    "|Apache Kafka|Data Integration and Transformation|Open Source|\n",
    "|Apache Nifi|Data Integration and Transformation|Open Source|\n",
    "|Aparche SparkSQL|Data Integration and Transformation|Open Source|\n",
    "|NodeRED|Data Integration and Transformation|Open Source|\n",
    "|Informatica Powercenter|Data Integration and Transformation|Commercial|\n",
    "|IBM InfoSphere DataStage|Data Integration and Transformation|Commercial|\n",
    "|SAP|Data Integration and Transformation|Commercial|\n",
    "|Talend|Data Integration and Transformation|Commercial|\n",
    "|Oracle|Data Integration and Transformation|Commercial|\n",
    "|SAS|Data Integration and Transformation|Commercial|\n",
    "|Microsoft|Data Integration and Transformation|Commercial|\n",
    "|Informatica|Data Integration and Transformation|Cloud|\n",
    "|IBM Data Refinery|Data Integration and Transformation|Cloud|\n",
    "|Hue|Data Visualizations|Open Source|\n",
    "|Kibana|Data Visualizations|Open Source|\n",
    "|Apache Superset|Data Visualizations|Open Source|\n",
    "|Tableau|Data Visualizations|Commercial|\n",
    "|Microsoft Power BI|Data Visualizations|Commercial|\n",
    "|IBM Cognos|Data Visualizations|Commercial|\n",
    "|Datameer|Data Visualizations|Cloud|\n",
    "|IBM Cognos Analytics|Data Visualizations|Cloud|\n",
    "|IBM Watson Studio/ Refinery|Data Visualizations|Cloud|\n",
    "|SPSS Modeler|Model Builder|Commercial|\n",
    "|SAS Enterprise Miner|Model Builder|Commercial|\n",
    "|IBM Watson Machine Learning|Model Builder|Cloud|\n",
    "|Google AI Platform Training|Model Builder|Cloud|\n",
    "|Apache PredictionIO|Model Deployment|Open Source|\n",
    "|Seldon|Model Deployment|Open Source|\n",
    "|MLeap|Model Deployment|Open Source|\n",
    "|Tensorflow|Model Deployment|Open Source|\n",
    "|ModelDB|Model Monitoring|Open Source|\n",
    "|Prometheus|Model Monitoring|Open Source|\n",
    "|Amazon Sage|Model Monitoring|Cloud|\n",
    "|Watson OpenScale|Model Monitoring|Cloud|\n",
    "|Git|Code Asset Management|Open Source|\n",
    "|Github|Code Asset Management Support|Open Source|\n",
    "|Gitlab|Code Asset Management Support|Open Source|\n",
    "|Bitbucket|Code Asset Management Support|Open Source|\n",
    "|Apache Atlas|Data Asset Management|Open Source|\n",
    "|ODPi EGERIA|Data Asset Management|Open Source|\n",
    "|Informatica|Data Asset Management|Commercial|\n",
    "|IBM InfoSphere|Data Asset Management|Commercial|\n",
    "|Jupyter|Development Environment|Open Source|\n",
    "|JupyterLab|Development Environment (Successor to Jupyter Notebooks|Open Source|\n",
    "|Apache Zeppelin|Development Environment|Open Source|\n",
    "|RStuido|Development Environment|Open Source|\n",
    "|Spyder|Development Environment|Open Source|\n",
    "|Watson Studio|Development Environment|Commercial|\n",
    "|Apache Spark|Cluster Execution Environment|Open Source|\n",
    "|Apache Flink|Cluster Execution Environment|Open Source|\n",
    "|Ray|Cluster Execution Environment|Open Source|\n",
    "|KNIME|Fully Integrated Tool|Open Source|\n",
    "|Orange|Fully Integrated Tool|Open Source|\n",
    "|Watson Studio|Fully Integrated Tool|Commercial|\n",
    "|H2O Driverless AI|Fully Integrated Tool|Commercial|\n",
    "|Watson Studio|Fully Integrated Tool|Cloud|\n",
    "|Azure Machine Learning|Fully Integrated Tool|Cloud|\n",
    "|H2O Driverless AI|Fully Integrated Tool|Cloud|"
   ]
  },
  {
   "cell_type": "markdown",
   "metadata": {},
   "source": [
    "<b>Mathmatical Operations</b>"
   ]
  },
  {
   "cell_type": "markdown",
   "metadata": {},
   "source": [
    "<i>This code will evaluate 3*(5+6)</i>"
   ]
  },
  {
   "cell_type": "code",
   "execution_count": 7,
   "metadata": {},
   "outputs": [
    {
     "data": {
      "text/plain": [
       "33"
      ]
     },
     "execution_count": 7,
     "metadata": {},
     "output_type": "execute_result"
    }
   ],
   "source": [
    "# Code to multiply and add numbers\n",
    "3*(5+6)"
   ]
  },
  {
   "cell_type": "markdown",
   "metadata": {},
   "source": [
    "<i>This code will evaluate how many hours are in 180 minutes</i>"
   ]
  },
  {
   "cell_type": "code",
   "execution_count": 6,
   "metadata": {},
   "outputs": [
    {
     "data": {
      "text/plain": [
       "3.0"
      ]
     },
     "execution_count": 6,
     "metadata": {},
     "output_type": "execute_result"
    }
   ],
   "source": [
    "# Code for a minutes to hours conversion\n",
    "180 / 60"
   ]
  },
  {
   "cell_type": "markdown",
   "metadata": {},
   "source": [
    "<b>Objectives</b>\n",
    "<ul>\n",
    "    <li>Become familiar with many different tools a data scientist uses:</li>\n",
    "    <ul>\n",
    "        <li>Jupyter Notebooks</li>\n",
    "        <li>JupyterLab</li>\n",
    "        <li>RStudio</li>\n",
    "        <li>Git</li>\n",
    "        <li>Github</li>\n",
    "        <li>Watson Studio</li>\n",
    "        <li>Libraries and packages</li>\n",
    "        <li>Data Sets</li>\n",
    "        <li>ML Models</li>\n",
    "    </ul>\n",
    "</ul>"
   ]
  },
  {
   "cell_type": "markdown",
   "metadata": {},
   "source": [
    "<b>Author</b><br>\n",
    "Graham Arbon"
   ]
  },
  {
   "cell_type": "markdown",
   "metadata": {},
   "source": [
    "<b>Github Link</b><br>\n",
    "<a href=\"https://github.com/arbongraham/toolsfordatascience/blob/master/Tools_for_Data_Science_Project_GA.ipynb\">Tools for Data Science</a>"
   ]
  },
  {
   "cell_type": "markdown",
   "metadata": {},
   "source": [
    "<b>Picture of firest page</b>\n",
    "<img src=\"final_project_image.png\">"
   ]
  }
 ],
 "metadata": {
  "kernelspec": {
   "display_name": "Python 3",
   "language": "python",
   "name": "python3"
  },
  "language_info": {
   "codemirror_mode": {
    "name": "ipython",
    "version": 3
   },
   "file_extension": ".py",
   "mimetype": "text/x-python",
   "name": "python",
   "nbconvert_exporter": "python",
   "pygments_lexer": "ipython3",
   "version": "3.8.3"
  }
 },
 "nbformat": 4,
 "nbformat_minor": 4
}
